{
 "cells": [
  {
   "cell_type": "markdown",
   "id": "d2487eaa",
   "metadata": {},
   "source": [
    "# 데이터 사이언스 시작하기\n",
    "\n",
    "## 3. Numpy\n",
    "\n",
    "### 01. numpy란?\n",
    "\n",
    "#### numpy가 중요한 이유\n",
    "\n",
    "numpy에는 numpy 배열(numpy array)이 존재하는데 파이썬 리스트와 비슷한 개념이다. 기존에 파이썬에 내장되어 있는 자료구조를 사용할 경우 다양한 형태로 존재하는 값을 다루기 위해 여러 추가적인 작업이 필요한데 이 과정에서 긴 코드를 작성하게 되고 이는 곧 프로그램의 수행 속도를 저하시킨다. 반면 numpy의 경우 numpy 배열을 활용하여 이 값을 효율적으로 다룰 수 있게 도와준다.\n",
    "\n",
    "### 02. numpy array의 생김새\n",
    "\n",
    "numpy 배열의 자료형을 출력해보면 `ndarray`가 반환되는 것을 알 수 있는데 이는 N차원 배열(N-Demensional Array)의 줄임말이다. 따라서 2차원, 3차원 이상의 고차원 배열을 생성하고 이를 numpy의 배열로 활용할 수 있다. 만약 `shape` 메서드를 활용해서 그 값을 출력해보면 2차원 배열의 경우 `(3, 4)`와 같이 행과 열 형태로, 다시 말해 행렬로 그 수를 각각 반환해준다. 추가적으로 `size` 메서드의 경우 총 개수를 반환해준다.\n",
    "\n",
    "### 03. numpy array를 만드는 다양한 방법\n",
    "\n",
    "#### 파이썬 리스트를 통해 생성\n",
    "\n",
    "`array` 메서드의 매개변수(Parameter)로 파이썬의 리스트를 전달하는 방법이다.\n",
    "\n",
    "#### 균일한 값으로 생성\n",
    "\n",
    "`full` 메서드를 사용하면 모든 값이 같은 numpy 배열을 생성할 수 있다. 추가적으로 `zeros`, `ones` 메서드를 사용하면 각각 0과 1로만 이루어진 numpy 배열을 생성할 수 있다. 두 메서드 모두 각각 첫 번째 매개변수로 개수를, 두 번째 매개변수로 자료형을 넘겨준다.\n",
    "\n",
    "#### 랜덤한 값들로 생성\n",
    "\n",
    "`random` 모듈 내에 있는 `random` 메서드를 사용하면 임의의 값들로 구성된 numpy 배열을 생성할 수 있다.\n",
    "\n",
    "#### 연속된 값들이 담긴 numpy array 생성\n",
    "\n",
    "`arange` 메서드를 사용하면 연속된 값들로 구성된 numpy 배열을 생성할 수 있다. 사용 방법은 파이썬의 내장 함수인 `range` 와 동일하다.\n",
    "\n",
    "### 05. numpy array 생성 연습 I\n",
    "\n",
    "```Python\n",
    "import numpy as np\n",
    "\n",
    "\n",
    "arr = np.arange(1, 101)\n",
    "arr\n",
    "```\n",
    "\n",
    "### 06. numpy array 생성 연습 II\n",
    "\n",
    "```Python\n",
    "import numpy as np\n",
    "\n",
    "\n",
    "arr = np.arange(3, 100, 3)\n",
    "arr\n",
    "```\n",
    "\n",
    "### 07. 인덱싱, 슬라이싱\n",
    "\n",
    "파이썬에서 인덱싱을 사용하는 방법과 유사한데 배열 자체를 인덱싱 요소로 사용할 수도 있다. 슬라이싱의 경우 파이썬에서 사용하는 슬라이싱과 동일하다.\n",
    "\n",
    "### 08. numpy 기본 연산\n",
    "\n",
    "numpy 배열 내에 있는 수치 계산 방법이 파이썬과 달리 반복문을 사용하지 않고 훨씬 단순하게 수행할 수 있다.\n",
    "\n",
    "### 09. 신주쿠 흥부부대찌개\n",
    "\n",
    "```Python\n",
    "import numpy as np\n",
    "\n",
    "\n",
    "revenue_in_yen = [\n",
    "    300000, 340000, 320000, 360000, \n",
    "    440000, 140000, 180000, 340000, \n",
    "    330000, 290000, 280000, 380000, \n",
    "    170000, 140000, 230000, 390000, \n",
    "    400000, 350000, 380000, 150000, \n",
    "    110000, 240000, 380000, 380000, \n",
    "    340000, 420000, 150000, 130000, \n",
    "    360000, 320000, 250000    \n",
    "]\n",
    "won_array = np.array(revenue_in_yen) * 10.08\n",
    "won_array\n",
    "```\n",
    "\n",
    "### 10. 흥부부대찌개 LA 진출\n",
    "\n",
    "```Python\n",
    "import numpy as np\n",
    "\n",
    "won_array = (\n",
    "    np.array(revenue_in_yen) * 10.08\n",
    "    +\n",
    "    np.array(revenue_in_dollar) * 1138\n",
    ")\n",
    "won_array\n",
    "```\n",
    "\n",
    "### 11. numpy 불린 연산\n",
    "\n",
    "불린(Boolean) 연산 또한 한 번에, 그리고 간편하게 가능하다. 이때 `where` 메서드를 사용해서 조건에 맞는 요소들의 인덱스만 구할 수 있는데 이를 다시 numpy 배열에 입력할 경우 해당 요소들을 반환할 수 있다.\n",
    "\n",
    "### 12. 흥부부대찌개 목표 일 매출\n",
    "\n",
    "```Python\n",
    "import numpy as np\n",
    "\n",
    "\n",
    "revenue_in_yen = [\n",
    "    300000, 340000, 320000, 360000, \n",
    "    440000, 140000, 180000, 340000, \n",
    "    330000, 290000, 280000, 380000, \n",
    "    170000, 140000, 230000, 390000, \n",
    "    400000, 350000, 380000, 150000, \n",
    "    110000, 240000, 380000, 380000, \n",
    "    340000, 420000, 150000, 130000, \n",
    "    360000, 320000, 250000\n",
    "]\n",
    "\n",
    "ndarray = np.array(revenue_in_yen)\n",
    "condition = np.where(ndarray <= 200000)\n",
    "bad_days_revenue = ndarray[condition]\n",
    "\n",
    "print(bad_days_revenue)\n",
    "# print(ndarray[ndarray <= 200000]) > 해당 방법도 가능하다.\n",
    "```\n",
    "\n",
    "### 13. numpy array vs. python list\n",
    "\n",
    "#### 문법 차이\n",
    "\n",
    "기본적으로 numpy 배열은 효율적인 연산을 위해 사용된다. 따라서 반복문을 사용해서 배열 내의 요소를 변경해야 하는 파이썬의 리스트와 달리 numpy 배열은 반복문을 사용하지 않더라도 단순하게 사용하면 된다.\n",
    "\n",
    "#### 성능 차이\n",
    "\n",
    "문법 차이로 알 수 있듯 numpy 배열은 값이 저장되는 방법이 동일한 자료형의 값만 저장될 수 있는 반면 파이썬의 리스트는 여러 자료형이 한 번에 저장될 수 있다. 이러한 부분 때문에 성능의 차이도 함께 발생한다.\n",
    "\n",
    "#### 언제 어떤 걸 써야 하나요?\n",
    "\n",
    "값을 추가하고 제거하는 일을 할 때는 파이썬의 리스트를 사용하는게 효과적이다. 반대로 수치 계산이 많고 복잡할 때나 행렬 같은 다차원 배열의 경우 numpy 배열을 사용하는게 효과적이다.\n",
    "\n",
    "### 14. numpy 기본 통계\n",
    "\n",
    "#### 최댓값, 최솟값\n",
    "\n",
    "최댓값과 최솟값의 경우 numpy 배열에 각각 `max`와 `min` 메서드를 사용하면 된다.\n",
    "\n",
    "\n",
    "#### 평균값\n",
    "\n",
    "최댓값과 최솟값을 구한 것과 동일한 방식으로 `mean` 메서드를 사용하면 된다.\n",
    "\n",
    "#### 중앙값\n",
    "\n",
    "numpy 모듈에 있는 `meidan` 메서드를 사용하여 그 매개변수로 중앙값을 구하고자 하는 numpy 배열을 전달하면 된다.\n",
    "\n",
    "#### 표준 편차, 분산\n",
    "\n",
    "표준 편차와 분산의 경우 최댓값과 최솟값을 구한 것과 동일한 방식으로 각각 `std`와 `var` 메서드를 사용하면 된다."
   ]
  },
  {
   "cell_type": "code",
   "execution_count": 1,
   "id": "e4628f30",
   "metadata": {},
   "outputs": [
    {
     "name": "stdout",
     "output_type": "stream",
     "text": [
      "Requirement already satisfied: numpy in /usr/local/Caskroom/miniconda/base/envs/codeit/lib/python3.10/site-packages (1.23.3)\n",
      "Note: you may need to restart the kernel to use updated packages.\n"
     ]
    }
   ],
   "source": [
    "pip install numpy"
   ]
  },
  {
   "cell_type": "code",
   "execution_count": 15,
   "id": "f24e246f",
   "metadata": {},
   "outputs": [
    {
     "name": "stdout",
     "output_type": "stream",
     "text": [
      "<class 'numpy.ndarray'>\n",
      "(9,)\n"
     ]
    }
   ],
   "source": [
    "import numpy as np\n",
    "\n",
    "array = np.array([ num for num in range(1, 10)])\n",
    "print(type(array))\n",
    "print(array.shape)"
   ]
  },
  {
   "cell_type": "code",
   "execution_count": 16,
   "id": "90400d9a",
   "metadata": {},
   "outputs": [
    {
     "name": "stdout",
     "output_type": "stream",
     "text": [
      "[[1 2 3]\n",
      " [4 5 6]]\n",
      "<class 'numpy.ndarray'>\n",
      "(2, 3)\n"
     ]
    }
   ],
   "source": [
    "nested_array = np.array([[1, 2, 3], [4, 5, 6]])\n",
    "print(nested_array)\n",
    "print(type(nested_array))\n",
    "print(nested_array.shape)"
   ]
  },
  {
   "cell_type": "code",
   "execution_count": 17,
   "id": "7cf1017d",
   "metadata": {},
   "outputs": [
    {
     "name": "stdout",
     "output_type": "stream",
     "text": [
      "[[[[1 2]\n",
      "   [2 3]]\n",
      "\n",
      "  [[4 5]\n",
      "   [6 7]]]]\n",
      "(1, 2, 2, 2)\n"
     ]
    }
   ],
   "source": [
    "nth_array = np.array([[[[1, 2], [2, 3]], [[4, 5], [6, 7]]]])\n",
    "print(nth_array)\n",
    "print(nth_array.shape)"
   ]
  },
  {
   "cell_type": "code",
   "execution_count": 18,
   "id": "62a13310",
   "metadata": {},
   "outputs": [
    {
     "name": "stdout",
     "output_type": "stream",
     "text": [
      "9\n",
      "6\n",
      "8\n"
     ]
    }
   ],
   "source": [
    "print(array.size)\n",
    "print(nested_array.size)\n",
    "print(nth_array.size)"
   ]
  },
  {
   "cell_type": "code",
   "execution_count": 20,
   "id": "7413f3a5",
   "metadata": {},
   "outputs": [
    {
     "name": "stdout",
     "output_type": "stream",
     "text": [
      "[0 0 0 0]\n",
      "(4,)\n",
      "[1 1 1 1]\n",
      "(4,)\n"
     ]
    }
   ],
   "source": [
    "all_zero_array = np.zeros(4, dtype=int)\n",
    "print(all_zero_array)\n",
    "print(all_zero_array.shape)\n",
    "\n",
    "all_one_array = np.ones(4, dtype=int)\n",
    "print(all_one_array)\n",
    "print(all_one_array.shape)"
   ]
  },
  {
   "cell_type": "code",
   "execution_count": 21,
   "id": "b8c40d5b",
   "metadata": {},
   "outputs": [
    {
     "name": "stdout",
     "output_type": "stream",
     "text": [
      "[0.48503173 0.62140499 0.28308977 0.48092782]\n",
      "(4,)\n"
     ]
    }
   ],
   "source": [
    "all_random_array = np.random.random(4)\n",
    "print(all_random_array)\n",
    "print(all_random_array.shape)"
   ]
  },
  {
   "cell_type": "code",
   "execution_count": 22,
   "id": "db3dcd20",
   "metadata": {},
   "outputs": [
    {
     "name": "stdout",
     "output_type": "stream",
     "text": [
      "[1 3 5 7 9]\n",
      "(5,)\n"
     ]
    }
   ],
   "source": [
    "odd_num_array = np.arange(1, 10, 2)\n",
    "print(odd_num_array)\n",
    "print(odd_num_array.shape)"
   ]
  },
  {
   "cell_type": "code",
   "execution_count": 23,
   "id": "0973eb01",
   "metadata": {},
   "outputs": [
    {
     "data": {
      "text/plain": [
       "array([  1,   2,   3,   4,   5,   6,   7,   8,   9,  10,  11,  12,  13,\n",
       "        14,  15,  16,  17,  18,  19,  20,  21,  22,  23,  24,  25,  26,\n",
       "        27,  28,  29,  30,  31,  32,  33,  34,  35,  36,  37,  38,  39,\n",
       "        40,  41,  42,  43,  44,  45,  46,  47,  48,  49,  50,  51,  52,\n",
       "        53,  54,  55,  56,  57,  58,  59,  60,  61,  62,  63,  64,  65,\n",
       "        66,  67,  68,  69,  70,  71,  72,  73,  74,  75,  76,  77,  78,\n",
       "        79,  80,  81,  82,  83,  84,  85,  86,  87,  88,  89,  90,  91,\n",
       "        92,  93,  94,  95,  96,  97,  98,  99, 100])"
      ]
     },
     "execution_count": 23,
     "metadata": {},
     "output_type": "execute_result"
    }
   ],
   "source": [
    "# 05. numpy array 생성 연습 I\n",
    "\n",
    "arr = np.arange(1, 101)\n",
    "arr"
   ]
  },
  {
   "cell_type": "code",
   "execution_count": 24,
   "id": "b6faa0b3",
   "metadata": {},
   "outputs": [
    {
     "data": {
      "text/plain": [
       "array([ 3,  6,  9, 12, 15, 18, 21, 24, 27, 30, 33, 36, 39, 42, 45, 48, 51,\n",
       "       54, 57, 60, 63, 66, 69, 72, 75, 78, 81, 84, 87, 90, 93, 96, 99])"
      ]
     },
     "execution_count": 24,
     "metadata": {},
     "output_type": "execute_result"
    }
   ],
   "source": [
    "# 06. numpy array 생성 연습 II\n",
    "\n",
    "arr = np.arange(3, 100, 3)\n",
    "arr"
   ]
  },
  {
   "cell_type": "code",
   "execution_count": 36,
   "id": "092ea60f",
   "metadata": {},
   "outputs": [
    {
     "name": "stdout",
     "output_type": "stream",
     "text": [
      "[1 3]\n",
      "[3 5]\n",
      "[2 4]\n"
     ]
    }
   ],
   "source": [
    "arr = np.array([1, 2, 3, 4, 5])\n",
    "print(arr[[0, 2]])\n",
    "\n",
    "indexes = arr[[1, 3]]\n",
    "print(arr[indexes])\n",
    "\n",
    "print(arr[1:4:2])"
   ]
  },
  {
   "cell_type": "code",
   "execution_count": 38,
   "id": "a8c79591",
   "metadata": {},
   "outputs": [
    {
     "name": "stdout",
     "output_type": "stream",
     "text": [
      "[0 2 4 6 8]\n",
      "[0. 1. 2. 3. 4.]\n",
      "[ 1  5  9 13 17]\n",
      "[ 0  6 20 42 72]\n"
     ]
    }
   ],
   "source": [
    "odd_numbers_arr = np.arange(1, 10, 2)\n",
    "even_numbers_arr = np.arange(0, 10, 2)\n",
    "\n",
    "print(odd_numbers_arr - 1)\n",
    "print(even_numbers_arr / 2)\n",
    "print(odd_numbers_arr + even_numbers_arr)\n",
    "print(odd_numbers_arr * even_numbers_arr)"
   ]
  },
  {
   "cell_type": "code",
   "execution_count": 42,
   "id": "8a46baac",
   "metadata": {},
   "outputs": [
    {
     "data": {
      "text/plain": [
       "array([3024000., 3427200., 3225600., 3628800., 4435200., 1411200.,\n",
       "       1814400., 3427200., 3326400., 2923200., 2822400., 3830400.,\n",
       "       1713600., 1411200., 2318400., 3931200., 4032000., 3528000.,\n",
       "       3830400., 1512000., 1108800., 2419200., 3830400., 3830400.,\n",
       "       3427200., 4233600., 1512000., 1310400., 3628800., 3225600.,\n",
       "       2520000.])"
      ]
     },
     "execution_count": 42,
     "metadata": {},
     "output_type": "execute_result"
    }
   ],
   "source": [
    "# 09. 신주쿠 흥부부대찌개\n",
    "\n",
    "revenue_in_yen = [\n",
    "    300000, 340000, 320000, 360000, \n",
    "    440000, 140000, 180000, 340000, \n",
    "    330000, 290000, 280000, 380000, \n",
    "    170000, 140000, 230000, 390000, \n",
    "    400000, 350000, 380000, 150000, \n",
    "    110000, 240000, 380000, 380000, \n",
    "    340000, 420000, 150000, 130000, \n",
    "    360000, 320000, 250000    \n",
    "]\n",
    "won_array = np.array(revenue_in_yen) * 10.08\n",
    "won_array"
   ]
  },
  {
   "cell_type": "code",
   "execution_count": 43,
   "id": "e523b832",
   "metadata": {},
   "outputs": [
    {
     "data": {
      "text/plain": [
       "array([4389600., 5248000., 4818800., 5108200., 6825000., 3004400.,\n",
       "       3521400., 5817000., 5033400., 4630200., 5439800., 6220200.,\n",
       "       4900000., 4370000., 4253000., 5524400., 6421800., 6145400.,\n",
       "       5651200., 3560400., 3612400., 5150400., 6220200., 7016800.,\n",
       "       5589400., 6623400., 3560400., 3814000., 6018600., 5046400.,\n",
       "       4568400.])"
      ]
     },
     "execution_count": 43,
     "metadata": {},
     "output_type": "execute_result"
    }
   ],
   "source": [
    "# 10. 흥부부대찌개 LA 진출\n",
    "\n",
    "revenue_in_yen = [\n",
    "    300000, 340000, 320000, 360000, \n",
    "    440000, 140000, 180000, 340000, \n",
    "    330000, 290000, 280000, 380000, \n",
    "    170000, 140000, 230000, 390000, \n",
    "    400000, 350000, 380000, 150000, \n",
    "    110000, 240000, 380000, 380000, \n",
    "    340000, 420000, 150000, 130000, \n",
    "    360000, 320000, 250000\n",
    "]\n",
    "\n",
    "revenue_in_dollar = [\n",
    "    1200, 1600, 1400, 1300, \n",
    "    2100, 1400, 1500, 2100, \n",
    "    1500, 1500, 2300, 2100, \n",
    "    2800, 2600, 1700, 1400, \n",
    "    2100, 2300, 1600, 1800, \n",
    "    2200, 2400, 2100, 2800, \n",
    "    1900, 2100, 1800, 2200, \n",
    "    2100, 1600, 1800\n",
    "]\n",
    "\n",
    "won_array = (\n",
    "    np.array(revenue_in_yen) * 10.08\n",
    "    +\n",
    "    np.array(revenue_in_dollar) * 1138\n",
    ")\n",
    "won_array"
   ]
  },
  {
   "cell_type": "code",
   "execution_count": 48,
   "id": "886b8522",
   "metadata": {},
   "outputs": [
    {
     "name": "stdout",
     "output_type": "stream",
     "text": [
      "[False False False False False  True  True  True  True  True]\n",
      "[ True False  True False  True False  True False  True False]\n",
      "(array([0, 1, 3]),)\n",
      "(array([0, 2, 4, 6, 8]),)\n",
      "[1 3 5 7 9]\n"
     ]
    }
   ],
   "source": [
    "number_arr = np.arange(10)\n",
    "\n",
    "print(number_arr > 4)\n",
    "print(number_arr % 2 == 0)\n",
    "\n",
    "booleans = np.array([True, True, False, True, False, False])\n",
    "print(np.where(booleans))\n",
    "\n",
    "print(np.where(number_arr % 2 == 0))\n",
    "print(array[np.where(number_arr % 2 == 0)])"
   ]
  },
  {
   "cell_type": "code",
   "execution_count": 54,
   "id": "3170abff",
   "metadata": {},
   "outputs": [
    {
     "name": "stdout",
     "output_type": "stream",
     "text": [
      "[140000 180000 170000 140000 150000 110000 150000 130000]\n",
      "[140000 180000 170000 140000 150000 110000 150000 130000]\n"
     ]
    }
   ],
   "source": [
    "# 12. 흥부부대찌개 목표 일 매출\n",
    "\n",
    "revenue_in_yen = [\n",
    "    300000, 340000, 320000, 360000, \n",
    "    440000, 140000, 180000, 340000, \n",
    "    330000, 290000, 280000, 380000, \n",
    "    170000, 140000, 230000, 390000, \n",
    "    400000, 350000, 380000, 150000, \n",
    "    110000, 240000, 380000, 380000, \n",
    "    340000, 420000, 150000, 130000, \n",
    "    360000, 320000, 250000\n",
    "]\n",
    "\n",
    "ndarray = np.array(revenue_in_yen)\n",
    "condition = np.where(ndarray <= 200000)\n",
    "bad_days_revenue = ndarray[condition]\n",
    "\n",
    "print(bad_days_revenue)\n",
    "print(ndarray[ndarray <= 200000])"
   ]
  },
  {
   "cell_type": "code",
   "execution_count": 55,
   "id": "f768a907",
   "metadata": {},
   "outputs": [
    {
     "name": "stdout",
     "output_type": "stream",
     "text": [
      "9\n",
      "0\n",
      "4.5\n",
      "4.5\n",
      "2.8722813232690143\n",
      "8.25\n"
     ]
    }
   ],
   "source": [
    "arr = np.arange(10)\n",
    "\n",
    "print(arr.max())\n",
    "print(arr.min())\n",
    "print(arr.mean())\n",
    "print(np.median(arr))\n",
    "print(arr.std())\n",
    "print(arr.var())"
   ]
  }
 ],
 "metadata": {
  "kernelspec": {
   "display_name": "Python 3 (ipykernel)",
   "language": "python",
   "name": "python3"
  },
  "language_info": {
   "codemirror_mode": {
    "name": "ipython",
    "version": 3
   },
   "file_extension": ".py",
   "mimetype": "text/x-python",
   "name": "python",
   "nbconvert_exporter": "python",
   "pygments_lexer": "ipython3",
   "version": "3.10.4"
  }
 },
 "nbformat": 4,
 "nbformat_minor": 5
}
